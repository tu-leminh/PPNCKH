{
 "cells": [
  {
   "cell_type": "code",
   "execution_count": 1,
   "id": "70590021-784f-4732-b514-48360d153e5b",
   "metadata": {},
   "outputs": [
    {
     "name": "stderr",
     "output_type": "stream",
     "text": [
      "\n",
      "Attaching package: 'dplyr'\n",
      "\n",
      "The following objects are masked from 'package:stats':\n",
      "\n",
      "    filter, lag\n",
      "\n",
      "The following objects are masked from 'package:base':\n",
      "\n",
      "    intersect, setdiff, setequal, union\n",
      "\n",
      "Registered S3 methods overwritten by 'ggplot2':\n",
      "  method         from \n",
      "  [.quosures     rlang\n",
      "  c.quosures     rlang\n",
      "  print.quosures rlang\n",
      "Loading required package: lattice\n",
      "Loading required package: survival\n",
      "Loading required package: Formula\n",
      "\n",
      "Attaching package: 'Hmisc'\n",
      "\n",
      "The following objects are masked from 'package:dplyr':\n",
      "\n",
      "    src, summarize\n",
      "\n",
      "The following objects are masked from 'package:base':\n",
      "\n",
      "    format.pval, units\n",
      "\n"
     ]
    }
   ],
   "source": [
    "library(dplyr)\n",
    "library(ggplot2)\n",
    "library(tibble)\n",
    "library(haven)\n",
    "library(Hmisc)"
   ]
  },
  {
   "cell_type": "code",
   "execution_count": 2,
   "id": "ff0f1cba-e84f-466b-a9e0-2e9b2b3dc8f3",
   "metadata": {},
   "outputs": [],
   "source": [
    "Blackscholes=function(strike,risk_free,sigma,T,S0,n,type=\"C\")\n",
    "    {\n",
    "        if(type==\"C\")\n",
    "        {\n",
    "          d1 <- (log(S0/strike) + (risk_free + sigma^2/2)*T) / (sigma*sqrt(T))\n",
    "          d2 <- d1 - sigma*sqrt(T)\n",
    "          value <- S0*pnorm(d1) - strike*exp(-risk_free*T)*pnorm(d2)\n",
    "          return(value/n)\n",
    "        }\n",
    "        if(type==\"P\")\n",
    "        {\n",
    "          d1 <- (log(S0/strike) + (risk_free + sigma^2/2)*T) / (sigma*sqrt(T))\n",
    "          d2 <- d1 - sigma*sqrt(T)\n",
    "\n",
    "          value <-  (strike*exp(-risk_free*T)*pnorm(-d2) - S0*pnorm(-d1))\n",
    "          return(value/n)\n",
    "        }\n",
    "    }"
   ]
  },
  {
   "cell_type": "code",
   "execution_count": 3,
   "id": "b32556e1-5f8d-411e-b0a4-95d7aefcb098",
   "metadata": {
    "tags": []
   },
   "outputs": [],
   "source": [
    "Monte_carlo=function(sim=1000000,strike,risk_free, sigma,T, S0,n=1) \n",
    "    {\n",
    "\n",
    "        # Simulation\n",
    "        ST = S0*exp((risk_free - 0.5*sigma^2)*T + sigma*sqrt(T) * rnorm(sim))\n",
    "\n",
    "        # Quyen chon Call\n",
    "        # Tinh chiet khau\n",
    "        C_payoffs <- (exp(-risk_free*T)*pmax(ST-strike,0))/n\n",
    "        # Mean va SD cua tap ket qua\n",
    "        C_Mean <- mean(C_payoffs)\n",
    "        C_SD <- sd(C_payoffs)/sqrt(sim)\n",
    "\n",
    "\n",
    "        # Quyen chon Put\n",
    "        # Tinh chiet khau\n",
    "        P_payoffs <- (exp(-risk_free*T)*pmax(strike-ST,0))/n\n",
    "        # Mean va SD cua tap ket qua\n",
    "        P_Mean <- mean(P_payoffs)\n",
    "        P_SD <- sd(P_payoffs)/sqrt(sim)\n",
    "    \n",
    "    \n",
    "        # Xuat ket qua \n",
    "        Mean=c(C_Mean,P_Mean)\n",
    "        SD=c(C_SD,P_SD)\n",
    "        Type=c(\"Call\",\"Put\")\n",
    "        TrueValue=c(Blackscholes(strike,risk_free,sigma,T,S0,n,\"C\"),Blackscholes(strike,risk_free,sigma,T,S0,n,\"P\"))\n",
    "        tibble(Mean,SD,Type=as_factor(Type),TrueValue=TrueValue,n=sim,method=\"Simple\")\n",
    "    }"
   ]
  },
  {
   "cell_type": "code",
   "execution_count": 4,
   "id": "65b793c0-f47e-4c5e-8ce6-716708fe661b",
   "metadata": {},
   "outputs": [
    {
     "data": {
      "image/png": "[encoded data removed]",
      "text/plain": [
       "plot without title"
      ]
     },
     "metadata": {},
     "output_type": "display_data"
    }
   ],
   "source": [
    "set.seed(1)\n",
    "#CMWG2104\n",
    "BS3=Monte_carlo(sim=10000000, T=284/365, risk_free=0.045, sigma=0.2972, S0=137000, strike=135000,n=10)\n",
    "BS2=Monte_carlo(sim=1000000, T=284/365, risk_free=0.045, sigma=0.2972, S0=137000, strike=135000,n=10)\n",
    "BS1=Monte_carlo(sim=100000, T=284/365, risk_free=0.045, sigma=0.2972, S0=137000, strike=135000,n=10)\n",
    "BS=rbind(BS1,BS2,BS3)\n",
    "ggplot(BS,aes(y=SD,x=factor(n),fill=Type))+geom_col(position=\"dodge\")+geom_text(aes(label=round(SD,2)),vjust=-0.25,position = position_dodge(width = 1))+labs(x=\"n_sim\",y=\"SE\")"
   ]
  },
  {
   "cell_type": "code",
   "execution_count": 5,
   "id": "0abcbdda-78b9-42b7-80d8-d0c981045932",
   "metadata": {},
   "outputs": [],
   "source": [
    "Monte_carlo_av=function(sim=1000000,strike,risk_free, sigma,T, S0,n=1) \n",
    "    {\n",
    "\n",
    "        # Simulation\n",
    "        r=rnorm(sim)\n",
    "        ST1 = S0*exp((risk_free - 0.5*sigma^2)*T + sigma*sqrt(T)*r)\n",
    "        # Antithetic path\n",
    "        ST2 = S0*exp((risk_free - 0.5*sigma^2)*T + sigma*sqrt(T)*(-r))\n",
    "        \n",
    "        # Quyen chon Call\n",
    "        # Tinh chiet khau\n",
    "        C_payoffs_1 <- (exp(-risk_free*T)*pmax(ST1-strike,0))/n\n",
    "        C_payoffs_2 <- (exp(-risk_free*T)*pmax(ST2-strike,0))/n\n",
    "        C_payoffs=(C_payoffs_1+C_payoffs_2)/2\n",
    "        # Mean va SD cua tap ket qua\n",
    "        C_Mean <- mean(C_payoffs)\n",
    "        C_SD <- sd(C_payoffs)/sqrt(sim)\n",
    "\n",
    "\n",
    "        # Quyen chon Put\n",
    "        # Tinh chiet khau\n",
    "        P_payoffs_1 <- (exp(-risk_free*T)*pmax(strike-ST1,0))/n\n",
    "        P_payoffs_2 <- (exp(-risk_free*T)*pmax(strike-ST2,0))/n\n",
    "        P_payoffs=(P_payoffs_1+P_payoffs_2)/2\n",
    "        # Mean va SD cua tap ket qua\n",
    "        P_Mean <- mean(P_payoffs)\n",
    "        P_SD <- sd(P_payoffs)/sqrt(sim)\n",
    "    \n",
    "    \n",
    "        # Xuat ket qua \n",
    "        Mean=c(C_Mean,P_Mean)\n",
    "        SD=c(C_SD,P_SD)\n",
    "        Type=c(\"Call\",\"Put\")\n",
    "        TrueValue=c(Blackscholes(strike,risk_free,sigma,T,S0,n,\"C\"),Blackscholes(strike,risk_free,sigma,T,S0,n,\"P\"))\n",
    "        tibble(Mean,SD,Type=as_factor(Type),TrueValue=TrueValue,n=sim,method=\"Antithetic variates\")\n",
    "    }"
   ]
  },
  {
   "cell_type": "code",
   "execution_count": 6,
   "id": "832a0a71-89d2-4021-b6c2-efdc8980e818",
   "metadata": {},
   "outputs": [
    {
     "data": {
      "image/png": "[encoded data removed]",
      "text/plain": [
       "plot without title"
      ]
     },
     "metadata": {},
     "output_type": "display_data"
    }
   ],
   "source": [
    "set.seed(1)\n",
    "#CMWG2104\n",
    "BS1=Monte_carlo_av(sim=10000000, T=284/365, risk_free=0.045, sigma=0.2972, S0=137000, strike=135000,n=10)\n",
    "BS2=Monte_carlo(sim=10000000, T=284/365, risk_free=0.045, sigma=0.2972, S0=137000, strike=135000,n=10)\n",
    "BS=rbind(BS1,BS2)\n",
    "ggplot(BS,aes(y=SD,x=method,fill=Type))+geom_col(position=\"dodge\")+geom_text(aes(label=round(SD,2)),vjust=-0.25,position = position_dodge(width = 1))+labs(x=\"method\",y=\"SE\")"
   ]
  }
 ],
 "metadata": {
  "kernelspec": {
   "display_name": "R",
   "language": "R",
   "name": "ir"
  },
  "language_info": {
   "codemirror_mode": "r",
   "file_extension": ".r",
   "mimetype": "text/x-r-source",
   "name": "R",
   "pygments_lexer": "r",
   "version": "3.6.1"
  }
 },
 "nbformat": 4,
 "nbformat_minor": 5
}
